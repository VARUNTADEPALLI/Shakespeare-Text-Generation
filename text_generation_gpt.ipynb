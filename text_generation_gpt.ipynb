{
  "nbformat": 4,
  "nbformat_minor": 0,
  "metadata": {
    "colab": {
      "provenance": [],
      "gpuType": "T4"
    },
    "kernelspec": {
      "name": "python3",
      "display_name": "Python 3"
    },
    "language_info": {
      "name": "python"
    },
    "accelerator": "GPU"
  },
  "cells": [
    {
      "cell_type": "code",
      "execution_count": 1,
      "metadata": {
        "id": "qA5-5SDvVL59"
      },
      "outputs": [],
      "source": [
        "import torch\n"
      ]
    },
    {
      "cell_type": "code",
      "source": [
        "!wget https://raw.githubusercontent.com/karpathy/char-rnn/master/data/tinyshakespeare/input.txt"
      ],
      "metadata": {
        "colab": {
          "base_uri": "https://localhost:8080/"
        },
        "id": "gI8CTweRVRmd",
        "outputId": "42238709-5d89-427e-f0fd-7acbfc4f3754"
      },
      "execution_count": 2,
      "outputs": [
        {
          "output_type": "stream",
          "name": "stdout",
          "text": [
            "--2025-03-05 22:02:49--  https://raw.githubusercontent.com/karpathy/char-rnn/master/data/tinyshakespeare/input.txt\n",
            "Resolving raw.githubusercontent.com (raw.githubusercontent.com)... 185.199.108.133, 185.199.109.133, 185.199.110.133, ...\n",
            "Connecting to raw.githubusercontent.com (raw.githubusercontent.com)|185.199.108.133|:443... connected.\n",
            "HTTP request sent, awaiting response... 200 OK\n",
            "Length: 1115394 (1.1M) [text/plain]\n",
            "Saving to: ‘input.txt’\n",
            "\n",
            "input.txt           100%[===================>]   1.06M  --.-KB/s    in 0.008s  \n",
            "\n",
            "2025-03-05 22:02:49 (131 MB/s) - ‘input.txt’ saved [1115394/1115394]\n",
            "\n"
          ]
        }
      ]
    },
    {
      "cell_type": "code",
      "source": [
        "batch_size = 16 # how many independent sequences will we process in parallel?\n",
        "sequence_length = 32 # what is the maximum context length for predictions?\n",
        "max_iters = 10000\n",
        "eval_interval = 100\n",
        "learning_rate = 1e-3\n",
        "eval_iters = 200\n",
        "embed_dim = 64\n",
        "num_head = 4\n",
        "num_layers = 4"
      ],
      "metadata": {
        "id": "DSq5qt3NZN4T"
      },
      "execution_count": 52,
      "outputs": []
    },
    {
      "cell_type": "code",
      "source": [
        "with open('/content/input.txt', 'r', encoding='utf-8') as f:\n",
        "    text = f.read()"
      ],
      "metadata": {
        "id": "OxSZvW65VTRd"
      },
      "execution_count": 53,
      "outputs": []
    },
    {
      "cell_type": "code",
      "source": [
        "chars = sorted(list(set(text)))\n",
        "print(\"\".join([i for i in chars]))\n",
        "len(chars)"
      ],
      "metadata": {
        "colab": {
          "base_uri": "https://localhost:8080/"
        },
        "id": "exbvZYRvVUo2",
        "outputId": "e8656b1e-8f73-431c-c5bc-473d4bdffb14"
      },
      "execution_count": 54,
      "outputs": [
        {
          "output_type": "stream",
          "name": "stdout",
          "text": [
            "\n",
            " !$&',-.3:;?ABCDEFGHIJKLMNOPQRSTUVWXYZabcdefghijklmnopqrstuvwxyz\n"
          ]
        },
        {
          "output_type": "execute_result",
          "data": {
            "text/plain": [
              "65"
            ]
          },
          "metadata": {},
          "execution_count": 54
        }
      ]
    },
    {
      "cell_type": "code",
      "source": [
        "char_to_index = {ch:i for i,ch in enumerate(chars)}\n",
        "index_to_char = {i:ch for i,ch in enumerate(chars)}"
      ],
      "metadata": {
        "id": "vtbX-R_1VWam"
      },
      "execution_count": 55,
      "outputs": []
    },
    {
      "cell_type": "code",
      "source": [
        "char_to_index\n",
        "encode = lambda s: [ char_to_index[i] for i in s]\n",
        "decode = lambda s: \"\".join([ index_to_char[i] for i in s])"
      ],
      "metadata": {
        "id": "57YCIf1jVXwC"
      },
      "execution_count": 56,
      "outputs": []
    },
    {
      "cell_type": "code",
      "source": [
        "data = torch.tensor(encode(text))"
      ],
      "metadata": {
        "id": "LvgRNnxlVYjg"
      },
      "execution_count": 57,
      "outputs": []
    },
    {
      "cell_type": "code",
      "source": [
        "train_len = 0.9*(len(data))"
      ],
      "metadata": {
        "id": "jxo0JE0ZVZep"
      },
      "execution_count": 58,
      "outputs": []
    },
    {
      "cell_type": "code",
      "source": [
        "training_data = data[:int(train_len)]\n",
        "validation_data = data[int(train_len):]"
      ],
      "metadata": {
        "id": "QrCuS1hkVbbo"
      },
      "execution_count": 59,
      "outputs": []
    },
    {
      "cell_type": "code",
      "source": [
        "import torch.nn as nn\n",
        "import torch.nn.functional as F\n",
        "torch.manual_seed(1337)\n",
        "\n",
        "def get_bacthes(split):\n",
        "  data = training_data if split == 'train' else validation_data\n",
        "  idx = torch.randint(len(data)-sequence_length,(batch_size,))\n",
        "  X = torch.stack([data[i:sequence_length+i] for i in idx])\n",
        "  Y = torch.stack([data[i+1:sequence_length+1+i] for i in idx])\n",
        "  return X,Y\n",
        "\n",
        "\n",
        "X,Y = get_bacthes('train')\n",
        "X"
      ],
      "metadata": {
        "colab": {
          "base_uri": "https://localhost:8080/"
        },
        "id": "qhHKUxTKVcO7",
        "outputId": "6540a9c3-3cf5-4371-f472-6845f29c751c"
      },
      "execution_count": 60,
      "outputs": [
        {
          "output_type": "execute_result",
          "data": {
            "text/plain": [
              "tensor([[58, 53,  1, 41, 53, 56, 56, 59, 54, 58,  1, 39,  1, 51, 39, 52,  5, 57,\n",
              "          1, 61, 47, 44, 43,  1, 47, 57,  0, 61, 46, 43, 52,  1],\n",
              "        [49,  1, 39, 52,  1, 53, 39, 58, 46,  1, 40, 63,  1, 20, 47, 51,  6,  0,\n",
              "         32, 46, 43,  1, 59, 52, 47, 58, 63,  1, 58, 46, 43,  1],\n",
              "        [59, 50, 42,  1, 58, 46, 53, 59,  1, 61, 43, 56, 58,  1, 57, 53,  1, 58,\n",
              "         53, 53,  2,  0,  0, 24, 33, 15, 21, 27, 10,  0, 35, 43],\n",
              "        [ 8,  0,  0, 35, 13, 30, 35, 21, 15, 23, 10,  0, 28, 56, 53, 60, 43,  1,\n",
              "         47, 58,  6,  1, 20, 43, 52, 56, 63,  6,  1, 39, 52, 42],\n",
              "        [58,  1, 57, 46, 43,  8,  0,  0, 32, 30, 13, 26, 21, 27, 10,  0, 18, 53,\n",
              "         56,  1, 61, 46, 39, 58,  1, 56, 43, 39, 57, 53, 52,  6],\n",
              "        [56, 61, 47, 41, 49,  6,  1, 50, 43, 58,  1, 47, 58,  1, 40, 43, 11,  0,\n",
              "         18, 53, 56,  1, 47, 52,  1, 58, 46, 63,  1, 57, 46, 53],\n",
              "        [25, 10,  0, 35, 47, 58, 46, 42, 56, 39, 61,  1, 63, 53, 59,  1, 46, 43,\n",
              "         52, 41, 43,  6,  1, 51, 63,  1, 50, 53, 56, 42,  6,  1],\n",
              "        [43, 57, 58,  1, 61, 47, 58, 46,  1, 58, 46, 63,  1, 44, 56, 53, 64, 43,\n",
              "         52,  1, 39, 42, 51, 53, 52, 47, 58, 47, 53, 52,  0, 25],\n",
              "        [47, 52, 41, 43,  1, 58, 46, 53, 59,  6,  1, 41, 56, 43, 39, 58, 43, 42,\n",
              "          1, 58, 53,  1, 40, 43,  1, 39, 61, 43, 42,  1, 40, 63],\n",
              "        [53, 52, 57,  8,  0,  0, 34, 27, 24, 33, 25, 26, 21, 13, 10,  0, 27,  6,\n",
              "          1, 52, 53,  1, 51, 53, 56, 43,  6,  1, 52, 53,  1, 51],\n",
              "        [53, 59, 56,  1, 47, 51, 54, 43, 42, 47, 51, 43, 52, 58,  8,  1, 18, 53,\n",
              "         56,  1, 58, 46, 43,  1, 42, 43, 39, 56, 58, 46,  6,  0],\n",
              "        [53, 58, 46, 47, 52, 45,  8,  0,  0, 16, 33, 23, 17,  1, 27, 18,  1, 37,\n",
              "         27, 30, 23, 10,  0, 26, 53,  1, 51, 39, 58, 58, 43, 56],\n",
              "        [53, 61,  1, 41, 43, 56, 43, 51, 53, 52, 47, 53, 59, 57,  6,  1, 57, 53,\n",
              "         50, 43, 51, 52,  1, 39, 52, 42,  1, 59, 52, 43, 39, 56],\n",
              "        [50, 50,  1, 57, 58, 47, 50, 50,  1, 50, 47, 60, 43,  1, 41, 46, 39, 57,\n",
              "         58, 43, 12,  0,  0, 30, 27, 25, 17, 27, 10,  0, 31, 46],\n",
              "        [21, 21, 10,  0, 13, 63,  6,  1, 47, 44,  1, 63, 53, 59, 56, 57, 43, 50,\n",
              "         44,  5, 57,  1, 56, 43, 51, 43, 51, 40, 56, 39, 52, 41],\n",
              "        [59, 58,  1, 47, 52,  1, 46, 43, 56,  1, 58, 43, 52, 42, 43, 56,  1, 46,\n",
              "         43, 39, 56, 58,  1, 58, 46, 43,  1, 39, 57, 54, 47, 56]])"
            ]
          },
          "metadata": {},
          "execution_count": 60
        }
      ]
    },
    {
      "cell_type": "code",
      "source": [
        "class SelfAttentionHead(nn.Module):\n",
        "  def __init__(self,head_size):\n",
        "    super().__init__()\n",
        "    self.query = nn.Linear(embed_dim,head_size,bias=False)\n",
        "    self.key = nn.Linear(embed_dim,head_size,bias=False)\n",
        "    self.value = nn.Linear(embed_dim,head_size,bias=False)\n",
        "    self.register_buffer('trill',torch.tril(torch.ones(sequence_length,sequence_length)))\n",
        "    self.dropout = nn.Dropout(0.2)\n",
        "\n",
        "  def forward(self,x):\n",
        "    B,T,C = x.shape\n",
        "    q = self.query(x)\n",
        "    k = self.key(x)\n",
        "    v = self.value(x)\n",
        "    weightedIndex = q @ k.transpose(-2,-1) * k.shape[-1]**-0.5\n",
        "    masked_wei = weightedIndex.masked_fill(self.trill[:T,:T]==0,float('-inf'))\n",
        "    sofmaxwei = F.softmax(masked_wei,dim=-1)\n",
        "    out = self.dropout(sofmaxwei)\n",
        "    out = out @ v\n",
        "    return out\n",
        "\n"
      ],
      "metadata": {
        "id": "yoBO-ZxYVc-7"
      },
      "execution_count": 61,
      "outputs": []
    },
    {
      "cell_type": "code",
      "source": [
        "class MultiHeadAttention(nn.Module):\n",
        "  def __init__(self,num_head,head_size):\n",
        "    super().__init__()\n",
        "    self.heads = nn.ModuleList([SelfAttentionHead(head_size=head_size) for i in range(num_head)])\n",
        "    self.dropout = nn.Dropout(0.2)\n",
        "    self.projection = nn.Linear(num_head * head_size,embed_dim)\n",
        "\n",
        "  def forward(self,x):\n",
        "    out = torch.cat([h(x) for h in self.heads],dim=-1)\n",
        "    out = self.dropout(out)\n",
        "    return out"
      ],
      "metadata": {
        "id": "fAXlkey8VguN"
      },
      "execution_count": 62,
      "outputs": []
    },
    {
      "cell_type": "code",
      "source": [
        "class Block(nn.Module):\n",
        "  def __init__(self,embed_dim,num_head):\n",
        "    super().__init__()\n",
        "    head_size = embed_dim // num_head\n",
        "    self.multihead = MultiHeadAttention(num_head,head_size)\n",
        "    self.ff = FeedForward(embed_dim)\n",
        "    self.ln1 = nn.LayerNorm(embed_dim)\n",
        "    self.ln2 = nn.LayerNorm(embed_dim)\n",
        "\n",
        "\n",
        "  def forward(self,x):\n",
        "    x = x + self.multihead(self.ln1(x))\n",
        "    x = x + self.ff(self.ln2(x))\n",
        "    return x\n"
      ],
      "metadata": {
        "id": "4HSqR4ggVhyl"
      },
      "execution_count": 63,
      "outputs": []
    },
    {
      "cell_type": "code",
      "source": [
        "class FeedForward(nn.Module):\n",
        "  def __init__(self,embed_dim):\n",
        "    super().__init__()\n",
        "    self.layers = nn.Sequential(\n",
        "        nn.Linear(embed_dim,4*embed_dim),\n",
        "        nn.ReLU(),\n",
        "        nn.Linear(4*embed_dim,embed_dim),\n",
        "        nn.Dropout(0.2)\n",
        "    )\n",
        "\n",
        "  def forward(self,x):\n",
        "    out = self.layers(x)\n",
        "    return out\n"
      ],
      "metadata": {
        "id": "eqCDCA3GVjGb"
      },
      "execution_count": 64,
      "outputs": []
    },
    {
      "cell_type": "code",
      "source": [
        "import torch.nn as nn\n",
        "import torch.nn.functional as F\n",
        "torch.manual_seed(1337)\n",
        "\n",
        "\n",
        "\n",
        "device = torch.device(\"cpu\")\n",
        "class BigramModel(nn.Module):\n",
        "  def __init__(self,vocab_size):\n",
        "    super().__init__()\n",
        "    self.embedding_table = nn.Embedding(vocab_size,embed_dim)\n",
        "    self.position_embedding_table  = nn.Embedding(sequence_length,embed_dim)\n",
        "    self.projection = nn.Linear(embed_dim,vocab_size)\n",
        "    self.blocks = nn.Sequential(*[Block(embed_dim=embed_dim,num_head=num_head)for i in range(num_layers)])\n",
        "    self.layernorm = nn.LayerNorm(embed_dim)\n",
        "\n",
        "  def forward(self,idx,targets=None):\n",
        "    B,T = idx.shape\n",
        "    embeddings = self.embedding_table(idx)\n",
        "    positions = torch.arange(T,device=device)\n",
        "    position_embeddigs = self.position_embedding_table(positions)\n",
        "    logits = embeddings + position_embeddigs\n",
        "    logits = self.blocks(logits)\n",
        "    logits = self.layernorm(logits)\n",
        "    logits = self.projection(logits)\n",
        "\n",
        "    if targets is None:\n",
        "      loss = None\n",
        "\n",
        "    else:\n",
        "      B,T,C = logits.shape\n",
        "      logits = logits.reshape(B*T,C)\n",
        "      targets = targets.reshape(B*T)\n",
        "      loss = F.cross_entropy(logits,targets)\n",
        "    return logits,loss\n",
        "\n",
        "  def generate(self,idx,max_new_tokens):\n",
        "    for i in range(max_new_tokens):\n",
        "      idx_cond = idx[:, -sequence_length:]\n",
        "      logits,loss = self(idx_cond)\n",
        "      current_tokens = logits[:,-1,:]\n",
        "      probs = F.softmax(current_tokens,dim=-1)\n",
        "      indx = torch.multinomial(probs,num_samples=1).long()\n",
        "      idx = torch.cat((idx,indx),dim=-1)\n",
        "    return idx\n",
        "\n",
        "m = BigramModel(len(chars)).to(device)\n",
        "idx = torch.zeros((1,1),dtype=torch.long,device=device)\n",
        "print(decode(m.generate(idx,max_new_tokens=500)[0].tolist()))"
      ],
      "metadata": {
        "colab": {
          "base_uri": "https://localhost:8080/"
        },
        "id": "LbLWxr9LVlM6",
        "outputId": "f81ed08e-5478-4bd7-c362-9e6208f3e23e"
      },
      "execution_count": 65,
      "outputs": [
        {
          "output_type": "stream",
          "name": "stdout",
          "text": [
            "\n",
            "AnA&qUUBAy;xGLhVt.jAXio!w3UCj&cUNwVvoB!EIJkVBl.bj\n",
            "!Vr!JraeZ?eKAFImwESq& hoRH'w!F W,Cz.&GY!CA,XcM'XL3,iWSJIpXkvH&I!m3MLfpjJivqxAA.;S',TkVgnTgre,pz'x iFT&TWy'O',CaFIqRD!pwu?.kSTBnSGqVRcU& LRMgAcnv-vemdZRjYDg;';::QADQV'u n$$&'A;J;V-XxSXRg$\n",
            "-ocRsXU,rJi hTXO,h3?,3XLp&rP tD3z;o!mRzeXtT-,ep\n",
            ",anCV&m\n",
            " oeSw!i;Vd';ApXxLf!$GHhW\n",
            "X;OQ&!O,G?$$\n",
            "&VrGn;x3IRTXsb $C&ISs&SiFtk;ocmXvV'Jrz:DP-X'nkbjC,T&Xl-AOf-SS-eAASECKVk\n",
            "Dz!Juqsr,hxm;xjJOtJhNjGxkN$dR&wk!q?R!KXR,g&OTH!YAFLwq\n",
            "ijKRZ: N!j;'A-&Rrp\n",
            "pHWQNAyoOPYMXjD3,PV&rS$T\n"
          ]
        }
      ]
    },
    {
      "cell_type": "code",
      "source": [
        "import torch\n",
        "import torch.nn as nn\n",
        "from torch.nn import functional as F\n",
        "\n",
        "torch.manual_seed(1337)\n",
        "\n",
        "@torch.no_grad()\n",
        "def estimate_loss():\n",
        "    out = {}\n",
        "    model.eval()\n",
        "    for split in ['train', 'val']:\n",
        "        losses = torch.zeros(eval_iters)\n",
        "        for k in range(eval_iters):\n",
        "            X, Y = get_bacthes(split)\n",
        "            logits, loss = model(X, Y)\n",
        "            losses[k] = loss.item()\n",
        "        out[split] = losses.mean()\n",
        "    model.train()\n",
        "    return out\n",
        "\n",
        "\n",
        "\n",
        "model = BigramModel(vocab_size=len(chars))\n",
        "m = model.to(device)\n",
        "# print the number of parameters in the model\n",
        "print(sum(p.numel() for p in m.parameters())/1e6, 'M parameters')\n",
        "\n",
        "# create a PyTorch optimizer\n",
        "optimizer = torch.optim.AdamW(model.parameters(), lr=learning_rate)\n",
        "\n",
        "for iter in range(max_iters):\n",
        "\n",
        "    # every once in a while evaluate the loss on train and val sets\n",
        "    if iter % eval_interval == 0 or iter == max_iters - 1:\n",
        "        losses = estimate_loss()\n",
        "        print(f\"step {iter}: train loss {losses['train']:.4f}, val loss {losses['val']:.4f}\")\n",
        "\n",
        "    # sample a batch of data\n",
        "    xb, yb = get_bacthes('train')\n",
        "\n",
        "    # evaluate the loss\n",
        "    logits, loss = model(xb, yb)\n",
        "    optimizer.zero_grad(set_to_none=True)\n",
        "    loss.backward()\n",
        "    optimizer.step()\n",
        "\n",
        "# generate from the model\n",
        "context = torch.zeros((1, 1), dtype=torch.long, device=device)\n",
        "print(decode(m.generate(context, max_new_tokens=2000)[0].tolist()))\n"
      ],
      "metadata": {
        "colab": {
          "base_uri": "https://localhost:8080/"
        },
        "id": "R6OMiDuVVm60",
        "outputId": "33d34d92-e591-44b3-e11c-32e5d5e4dd5e"
      },
      "execution_count": 66,
      "outputs": [
        {
          "output_type": "stream",
          "name": "stdout",
          "text": [
            "0.209729 M parameters\n",
            "step 0: train loss 4.3738, val loss 4.3592\n",
            "step 100: train loss 2.6784, val loss 2.6759\n",
            "step 200: train loss 2.5357, val loss 2.5377\n",
            "step 300: train loss 2.4713, val loss 2.4688\n",
            "step 400: train loss 2.4093, val loss 2.4174\n",
            "step 500: train loss 2.3533, val loss 2.3461\n",
            "step 600: train loss 2.3097, val loss 2.3103\n",
            "step 700: train loss 2.2659, val loss 2.2751\n",
            "step 800: train loss 2.2424, val loss 2.2457\n",
            "step 900: train loss 2.2070, val loss 2.2268\n",
            "step 1000: train loss 2.1862, val loss 2.1966\n",
            "step 1100: train loss 2.1473, val loss 2.1687\n",
            "step 1200: train loss 2.1226, val loss 2.1440\n",
            "step 1300: train loss 2.1087, val loss 2.1350\n",
            "step 1400: train loss 2.0862, val loss 2.1241\n",
            "step 1500: train loss 2.0791, val loss 2.1150\n",
            "step 1600: train loss 2.0568, val loss 2.1089\n",
            "step 1700: train loss 2.0385, val loss 2.0860\n",
            "step 1800: train loss 2.0311, val loss 2.0701\n",
            "step 1900: train loss 2.0255, val loss 2.0616\n",
            "step 2000: train loss 2.0016, val loss 2.0510\n",
            "step 2100: train loss 1.9861, val loss 2.0475\n",
            "step 2200: train loss 1.9694, val loss 2.0377\n",
            "step 2300: train loss 1.9692, val loss 2.0333\n",
            "step 2400: train loss 1.9470, val loss 2.0283\n",
            "step 2500: train loss 1.9397, val loss 2.0178\n",
            "step 2600: train loss 1.9302, val loss 1.9957\n",
            "step 2700: train loss 1.9329, val loss 2.0125\n",
            "step 2800: train loss 1.9182, val loss 1.9888\n",
            "step 2900: train loss 1.9093, val loss 1.9911\n",
            "step 3000: train loss 1.9041, val loss 1.9909\n",
            "step 3100: train loss 1.8919, val loss 1.9689\n",
            "step 3200: train loss 1.8996, val loss 1.9955\n",
            "step 3300: train loss 1.8752, val loss 1.9685\n",
            "step 3400: train loss 1.8707, val loss 1.9722\n",
            "step 3500: train loss 1.8644, val loss 1.9681\n",
            "step 3600: train loss 1.8588, val loss 1.9616\n",
            "step 3700: train loss 1.8445, val loss 1.9698\n",
            "step 3800: train loss 1.8380, val loss 1.9637\n",
            "step 3900: train loss 1.8427, val loss 1.9548\n",
            "step 4000: train loss 1.8330, val loss 1.9460\n",
            "step 4100: train loss 1.8320, val loss 1.9474\n",
            "step 4200: train loss 1.8385, val loss 1.9484\n",
            "step 4300: train loss 1.8305, val loss 1.9425\n",
            "step 4400: train loss 1.8281, val loss 1.9502\n",
            "step 4500: train loss 1.8186, val loss 1.9577\n",
            "step 4600: train loss 1.8064, val loss 1.9436\n",
            "step 4700: train loss 1.8129, val loss 1.9377\n",
            "step 4800: train loss 1.8124, val loss 1.9343\n",
            "step 4900: train loss 1.7983, val loss 1.9298\n",
            "step 5000: train loss 1.7995, val loss 1.9145\n",
            "step 5100: train loss 1.7968, val loss 1.9290\n",
            "step 5200: train loss 1.7845, val loss 1.9308\n",
            "step 5300: train loss 1.7911, val loss 1.9184\n",
            "step 5400: train loss 1.7801, val loss 1.9075\n",
            "step 5500: train loss 1.7662, val loss 1.9032\n",
            "step 5600: train loss 1.7676, val loss 1.9003\n",
            "step 5700: train loss 1.7682, val loss 1.9096\n",
            "step 5800: train loss 1.7651, val loss 1.9087\n",
            "step 5900: train loss 1.7664, val loss 1.8969\n",
            "step 6000: train loss 1.7634, val loss 1.8914\n",
            "step 6100: train loss 1.7596, val loss 1.8926\n",
            "step 6200: train loss 1.7635, val loss 1.9058\n",
            "step 6300: train loss 1.7538, val loss 1.9005\n",
            "step 6400: train loss 1.7505, val loss 1.8897\n",
            "step 6500: train loss 1.7489, val loss 1.8961\n",
            "step 6600: train loss 1.7355, val loss 1.8807\n",
            "step 6700: train loss 1.7455, val loss 1.8940\n",
            "step 6800: train loss 1.7448, val loss 1.8882\n",
            "step 6900: train loss 1.7440, val loss 1.8897\n",
            "step 7000: train loss 1.7344, val loss 1.8988\n",
            "step 7100: train loss 1.7314, val loss 1.8843\n",
            "step 7200: train loss 1.7391, val loss 1.8796\n",
            "step 7300: train loss 1.7383, val loss 1.8710\n",
            "step 7400: train loss 1.7314, val loss 1.8711\n",
            "step 7500: train loss 1.7331, val loss 1.8852\n",
            "step 7600: train loss 1.7271, val loss 1.8711\n",
            "step 7700: train loss 1.7340, val loss 1.8677\n",
            "step 7800: train loss 1.7236, val loss 1.8529\n",
            "step 7900: train loss 1.7104, val loss 1.8776\n",
            "step 8000: train loss 1.7230, val loss 1.8739\n",
            "step 8100: train loss 1.7190, val loss 1.8678\n",
            "step 8200: train loss 1.7160, val loss 1.8580\n",
            "step 8300: train loss 1.7088, val loss 1.8588\n",
            "step 8400: train loss 1.7129, val loss 1.8671\n",
            "step 8500: train loss 1.7153, val loss 1.8662\n",
            "step 8600: train loss 1.7033, val loss 1.8509\n",
            "step 8700: train loss 1.7127, val loss 1.8619\n",
            "step 8800: train loss 1.7243, val loss 1.8678\n",
            "step 8900: train loss 1.7048, val loss 1.8674\n",
            "step 9000: train loss 1.6971, val loss 1.8579\n",
            "step 9100: train loss 1.7038, val loss 1.8431\n",
            "step 9200: train loss 1.6966, val loss 1.8648\n",
            "step 9300: train loss 1.7024, val loss 1.8591\n",
            "step 9400: train loss 1.6982, val loss 1.8583\n",
            "step 9500: train loss 1.6986, val loss 1.8712\n",
            "step 9600: train loss 1.7003, val loss 1.8425\n",
            "step 9700: train loss 1.7000, val loss 1.8342\n",
            "step 9800: train loss 1.6809, val loss 1.8406\n",
            "step 9900: train loss 1.6906, val loss 1.8345\n",
            "step 9999: train loss 1.6890, val loss 1.8464\n",
            "\n",
            "She lame he'd greswer honome.-d fau turl, not hath EdWard:\n",
            "Kicklaine Ware 'tis go day whichies;\n",
            "Or poth, and beak. And and my lansadon, I spall wiftering way, I so in high to gauty more\n",
            "Cloud in soom me ban it goot your carriefoings!\n",
            "\n",
            "QUEEN EDWARD:\n",
            "My Lord-wall by a him this with shall,\n",
            "That the endies of mine for mone\n",
            "arell wer; ge air be chiple\n",
            "care's bapward, I hold have firthy crosess forgine\n",
            "To suire of the let fighters can locktes not Bairs\n",
            "Their grting an I servabbrockal,\n",
            "Dortis by sir.\n",
            "\n",
            "QIXHARGA:\n",
            "Maken, Hore's down this, onecloodle the shand succeseles. whonot you rother hong brighting ove be they tway Cortirings!\n",
            "\n",
            "BASHATUS:\n",
            "An Wrie come lifliance a dait may\n",
            "Not drebow--fall here, 'glac,--mathershale, if musiner:\n",
            "Radd secold he stred to reence and so planite to greet an to reguren,\n",
            "The bastor sue tlant, long thinge 'tleaden and worldom or 'tt her's houds'd good goid her of of aneld him on my hay now\n",
            "Or his some; hasple it word you conty:\n",
            "Morrawisphed. Should priffed, if and Murchay:\n",
            "Leve and the hasbambled flem\n",
            "Will be fenor so him till talt, wo bloyd time is;\n",
            "Sirrow my so send, thou may griess Good not leavish\n",
            "As lat, this flow it disher.\n",
            "\n",
            "CORIONTES:\n",
            "Secompamen;\n",
            "And bragie, briful wis thospis sticimes, hould, your crom sooly dows. Clare for you senfor your soess expicien,? man, here infor:\n",
            "He wishall lead'd fack than and eards'd liecks\n",
            "That of my for hogh's briford, awp and in us\n",
            "in to thou murd ay Bohrows, own pror the procene\n",
            "Fouseaten as oldy?\n",
            "\n",
            "HOMPETER:\n",
            "Tho soigh is stelved\n",
            "The gatercelas lime Woir good powing tranitolus prause:\n",
            "Oution; liegman this fully, e's manNery frier.\n",
            "Man loven Misself you faing triesw\n",
            "Andult your unto prominatted all thrave the lor trifeour triel talemongs:\n",
            "No go must dears of Wor; this ly pruchtranted Rice arefiars in allame not my lets in pleard thee\n",
            "What frigher furck of enriust thous, fights I arm your good doogl!\n",
            "\n",
            "PLIXUS:\n",
            "She has mothere stclabest.\n",
            "\n",
            "CORIOLANUS:\n",
            "Plountiess and came some, he like he'd Romedispreck.\n",
            "\n",
            "KING RICH\n"
          ]
        }
      ]
    },
    {
      "cell_type": "code",
      "source": [],
      "metadata": {
        "id": "Gn6c9VdZXPFd"
      },
      "execution_count": 66,
      "outputs": []
    }
  ]
}